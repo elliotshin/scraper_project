{
 "cells": [
  {
   "cell_type": "markdown",
   "id": "22a4fe95",
   "metadata": {},
   "source": [
    "# Blog Post 2\n",
    "In this blog post, we are going to create a spider object, which is useful for scraping the web! "
   ]
  },
  {
   "cell_type": "markdown",
   "id": "a8219b50",
   "metadata": {},
   "source": [
    "For starters, here are the packages we are going to import."
   ]
  },
  {
   "cell_type": "code",
   "execution_count": 1,
   "id": "b29626ed",
   "metadata": {},
   "outputs": [],
   "source": [
    "import scrapy\n",
    "import pandas as pd\n",
    "import numpy as np"
   ]
  },
  {
   "cell_type": "markdown",
   "id": "88eb41f7",
   "metadata": {},
   "source": [
    "## The Big Picture\n",
    "Let's take a look at our finished product first, before we break down how it works! "
   ]
  },
  {
   "cell_type": "code",
   "execution_count": 2,
   "id": "61a52e53",
   "metadata": {},
   "outputs": [],
   "source": [
    "class ImdbSpider(scrapy.Spider):\n",
    "    name = 'imdb_spider'\n",
    "    \n",
    "    start_urls = ['https://www.imdb.com/title/tt1160419/']\n",
    "    \n",
    "    def parse(self,response):\n",
    "        \"\"\"\n",
    "        assumes you start on a movie page, navigate to Cast & Crew page\n",
    "        once at <movie_url>fullcredits, call parse_full_Credits method in the callback argument \n",
    "        to a yielded scrapy.Request. returns nothing, around 5 lines of code\n",
    "        \"\"\"\n",
    "        #gets link to cast and crew from start page \n",
    "        cast_crew = response.css(\"a[href^= 'fullcredits']\").attrib[\"href\"] \n",
    "        if cast_crew:\n",
    "            #joins link to existing link\n",
    "            cast_crew = response.urljoin(cast_crew)\n",
    "\n",
    "            #yields request: if this page exists, navigate to it and perform whatever function is described in the callback argument\n",
    "            yield scrapy.Request(cast_crew, callback = self.parse_full_credits)\n",
    "\n",
    "\n",
    "    def parse_full_credits(self,response):\n",
    "        \"\"\"\n",
    "        assumes you start on cast and crew page \n",
    "        yields a scraoy.Request for the page of each actor listed on parse_actor_page\n",
    "        No crew, just actors \n",
    "        returns nothing, around 5 lines of code\n",
    "        \"\"\"\n",
    "\n",
    "        #below code gathers a list of urls for actors from cast page\n",
    "        cast_list = [a.attrib[\"href\"] for a in response.css(\"td.primary_photo a\")] \n",
    "        for actor in cast_list:\n",
    "        #for each actors url in the list, join it to the existing response url\n",
    "            actor_page = response.urljoin(actor)\n",
    "            #for each actor, yield a request: go to new response url, and perform parse_actor_page function\n",
    "            yield scrapy.Request(actor_page, callback = self.parse_actor_page)\n",
    "\n",
    "\n",
    "    def parse_actor_page(self,response):\n",
    "        \"\"\"\n",
    "        start on the page of an actor, yields a dictionary of form {\"actor\": actor_name, \"movie_or_TV_name\": movie_or_TV_name}\n",
    "        should yield one such dict for each of the movies or tv shows on which the actor has worked.Name has to be determined of the actor \n",
    "        and each movie or tv show \n",
    "        no more than 15 lines of code \n",
    "        \"\"\"\n",
    "        #retrieve actor name from header\n",
    "        actor = response.css(\"h1.header span.itemprop::text\").get()\n",
    "\n",
    "        #get list of movies actor was involved with\n",
    "        movies = response.css(\"div.filmo-row\")\n",
    "        for movie in movies:\n",
    "            #see how the actor contributed to the movie, we are interested only in acting credits\n",
    "            role = movie.css(\"::attr(id)\").get()[0:3] \n",
    "            if(role == 'act'): #to account for 'ACT'or and 'ACT'ress \n",
    "                yield{\n",
    "                    \"actor\":actor, #specified above \n",
    "                    \"movie_or_TV_name\": movie.css(\"a::text\").get() #get movie title\n",
    "                }\n",
    "\n",
    "        "
   ]
  },
  {
   "cell_type": "markdown",
   "id": "f472ed45",
   "metadata": {},
   "source": [
    "The 'name' and 'start_urls' variables tell the program what to call the spider when you want to run it and what the first link to look at is! "
   ]
  },
  {
   "cell_type": "markdown",
   "id": "32fd88be",
   "metadata": {},
   "source": [
    "For the purposes of this spider, our MOVIE will be the FAITHFUL ADAPTATION OF FRANK HERBERT's DUNE, directed by Denis Villeneuve"
   ]
  },
  {
   "cell_type": "markdown",
   "id": "890159ad",
   "metadata": {},
   "source": [
    "## The parse() Method \n",
    "The parse method is designed to retrieve the \"Cast and Crew\" link from our starting IMDB page, and then yield a scrapy.Request to tell the spider what to when we get to that page, in our case, we want to use the parse_full_credits() method. "
   ]
  },
  {
   "cell_type": "code",
   "execution_count": 3,
   "id": "9daf92ff",
   "metadata": {},
   "outputs": [],
   "source": [
    "def parse(self,response):\n",
    "        \"\"\"\n",
    "        assumes you start on a movie page, navigate to Cast & Crew page\n",
    "        once at <movie_url>fullcredits, call parse_full_Credits method in the callback argument \n",
    "        to a yielded scrapy.Request. returns nothing, around 5 lines of code\n",
    "        \"\"\"\n",
    "        #gets link to cast and crew from start page \n",
    "        cast_crew = response.css(\"a[href^= 'fullcredits']\").attrib[\"href\"] \n",
    "        if cast_crew:\n",
    "            #joins link to existing link\n",
    "            cast_crew = response.urljoin(cast_crew)\n",
    "\n",
    "            #yields request: if this page exists, navigate to it and perform whatever function is described in the callback argument\n",
    "            yield scrapy.Request(cast_crew, callback = self.parse_full_credits)"
   ]
  },
  {
   "cell_type": "markdown",
   "id": "0b9a40e3",
   "metadata": {},
   "source": [
    "The response.urljoin() function joins the cast_crew url that we scraped from the IMDB page and combines it with the start_url! Then we navigate to the said link, and using the callback argument of the scrapy.Request() method, we instruct the spider what to do once we get there!"
   ]
  },
  {
   "cell_type": "markdown",
   "id": "01082177",
   "metadata": {},
   "source": [
    "## The parse_full_credits() Method\n",
    "This method is designed to get the list of actors/actresses from the Cast and Crew page!"
   ]
  },
  {
   "cell_type": "code",
   "execution_count": 4,
   "id": "95fff421",
   "metadata": {},
   "outputs": [],
   "source": [
    "def parse_full_credits(self,response):\n",
    "        \"\"\"\n",
    "        assumes you start on cast and crew page \n",
    "        yields a scraoy.Request for the page of each actor listed on parse_actor_page\n",
    "        No crew, just actors \n",
    "        returns nothing, around 5 lines of code\n",
    "        \"\"\"\n",
    "\n",
    "        #below code gathers a list of urls for actors from cast page\n",
    "        cast_list = [a.attrib[\"href\"] for a in response.css(\"td.primary_photo a\")] \n",
    "        for actor in cast_list:\n",
    "            #for each actors url in the list, join it to the existing response url\n",
    "            actor_page = response.urljoin(actor)\n",
    "            #for each actor, yield a request: go to new response url, and perform parse_actor_page function\n",
    "            yield scrapy.Request(actor_page, callback = self.parse_actor_page)"
   ]
  },
  {
   "cell_type": "markdown",
   "id": "a4334e5a",
   "metadata": {},
   "source": [
    "We set cast_list equal to a list comprehension which returns a list of all the links that clicking the photos of the actors/actresses would return. For example, in our case, the first item in this list would be the link that is returned if we clicked the headshot of Timothee Chalamet."
   ]
  },
  {
   "cell_type": "markdown",
   "id": "2d2f0ced",
   "metadata": {},
   "source": [
    "The for loop in this method instructs the spider (for each person on the actor list) to once again merge the link with the response.url and follow that link, only this time the callback argument specifies our final and most complex parsing function, the parse_actor_page()"
   ]
  },
  {
   "cell_type": "markdown",
   "id": "8ad4918a",
   "metadata": {},
   "source": [
    "## The parse_actor_page() Method \n",
    "\n",
    "This method is responsible for returning the actor/actress' name along with every acting credit they have received, according to IMDB. \n"
   ]
  },
  {
   "cell_type": "markdown",
   "id": "a20003d0",
   "metadata": {},
   "source": [
    "First, let's start by accessing the simplest element, the actor's name. To do so, we are going to take advantage of the fact that their name is the only \\<h1> element of this page.\n",
    "\n",
    "actor = \n",
    "response.css(\"h1.header span.itemprop::text\").get()\n"
   ]
  },
  {
   "cell_type": "markdown",
   "id": "5acd7d6d",
   "metadata": {},
   "source": [
    "Next, we want to use the css selector to select all the movies that the actor/actress was involved in. BE WARNED: This includes all the credits for producing, writing, etc., but we just want ACTING credits. \n",
    "\n",
    "movies = response.css(\"div.filmo-row\")\n",
    "\n",
    "The above code will return a list of all movies\n"
   ]
  },
  {
   "cell_type": "markdown",
   "id": "488c41e2",
   "metadata": {},
   "source": [
    "In order to solve the above-mentioned problem, we need to filter out using the ::attr(id) css selector. Let's use a for-loop for each movie and see if the first three letters of the id attribute match \"act\", which is what we are looking for. "
   ]
  },
  {
   "cell_type": "markdown",
   "id": "74e5dff8",
   "metadata": {},
   "source": [
    "Finally, the last thing to do (if the role matches what we are looking for), is to return the actor's/actress' name and the movie title. To do so we yield a dict object with two items: \"actor\" (the name) and \"movie_or_TV_name\"(name of project acted on) "
   ]
  },
  {
   "cell_type": "code",
   "execution_count": 5,
   "id": "09877cf2",
   "metadata": {},
   "outputs": [],
   "source": [
    "def parse_actor_page(self,response):\n",
    "        \"\"\"\n",
    "        start on the page of an actor, yields a dictionary of form {\"actor\": actor_name, \"movie_or_TV_name\": movie_or_TV_name}\n",
    "        should yield one such dict for each of the movies or tv shows on which the actor has worked.Name has to be determined of the actor \n",
    "        and each movie or tv show \n",
    "        no more than 15 lines of code \n",
    "        \"\"\"\n",
    "        #retrieve actor name from header\n",
    "        actor = response.css(\"h1.header span.itemprop::text\").get()\n",
    "\n",
    "        #get list of movies actor was involved with\n",
    "        movies = response.css(\"div.filmo-row\")\n",
    "        for movie in movies:\n",
    "            #see how the actor contributed to the movie, we are interested only in acting credits\n",
    "            role = movie.css(\"::attr(id)\").get()[0:3] \n",
    "            if(role == 'act'): #to account for 'ACT'or and 'ACT'ress \n",
    "                yield{\n",
    "                    \"actor\":actor, #specified above \n",
    "                    \"movie_or_TV_name\": movie.css(\"a::text\").get() #get movie title\n",
    "                }"
   ]
  },
  {
   "cell_type": "markdown",
   "id": "2751fe3c",
   "metadata": {},
   "source": [
    "Great! Now in order to run our spider, we need to go to the command line and to the directory where our spider is located. \n",
    "\n",
    "the command: scrapy crawl imdb_spider -o movies.csv \n",
    "\n",
    "will run our spider and output the results into a csv file in the same location \n",
    "\n"
   ]
  },
  {
   "cell_type": "markdown",
   "id": "45b1d8f9",
   "metadata": {},
   "source": [
    "## Movie Suggestions\n",
    "\n",
    "Now let's figure out a way to suggest movies or tv shows with similar actors!\n",
    "\n",
    "First, we can look at the data that we have so far"
   ]
  },
  {
   "cell_type": "code",
   "execution_count": 6,
   "id": "f0dfb71a",
   "metadata": {},
   "outputs": [],
   "source": [
    "movies = pd.read_csv(\"movies.csv\")"
   ]
  },
  {
   "cell_type": "code",
   "execution_count": 7,
   "id": "a34a6923",
   "metadata": {},
   "outputs": [
    {
     "data": {
      "text/html": [
       "<div>\n",
       "<style scoped>\n",
       "    .dataframe tbody tr th:only-of-type {\n",
       "        vertical-align: middle;\n",
       "    }\n",
       "\n",
       "    .dataframe tbody tr th {\n",
       "        vertical-align: top;\n",
       "    }\n",
       "\n",
       "    .dataframe thead th {\n",
       "        text-align: right;\n",
       "    }\n",
       "</style>\n",
       "<table border=\"1\" class=\"dataframe\">\n",
       "  <thead>\n",
       "    <tr style=\"text-align: right;\">\n",
       "      <th></th>\n",
       "      <th>actor</th>\n",
       "      <th>movie_or_TV_name</th>\n",
       "    </tr>\n",
       "  </thead>\n",
       "  <tbody>\n",
       "    <tr>\n",
       "      <th>0</th>\n",
       "      <td>Oliver Ryan</td>\n",
       "      <td>Dune</td>\n",
       "    </tr>\n",
       "    <tr>\n",
       "      <th>1</th>\n",
       "      <td>Oliver Ryan</td>\n",
       "      <td>Bravely Default II</td>\n",
       "    </tr>\n",
       "    <tr>\n",
       "      <th>2</th>\n",
       "      <td>Oliver Ryan</td>\n",
       "      <td>The Pembrokeshire Murders</td>\n",
       "    </tr>\n",
       "    <tr>\n",
       "      <th>3</th>\n",
       "      <td>Oliver Ryan</td>\n",
       "      <td>The Accident</td>\n",
       "    </tr>\n",
       "    <tr>\n",
       "      <th>4</th>\n",
       "      <td>Oliver Ryan</td>\n",
       "      <td>The Last Vermeer</td>\n",
       "    </tr>\n",
       "  </tbody>\n",
       "</table>\n",
       "</div>"
      ],
      "text/plain": [
       "         actor           movie_or_TV_name\n",
       "0  Oliver Ryan                       Dune\n",
       "1  Oliver Ryan         Bravely Default II\n",
       "2  Oliver Ryan  The Pembrokeshire Murders\n",
       "3  Oliver Ryan               The Accident\n",
       "4  Oliver Ryan           The Last Vermeer"
      ]
     },
     "execution_count": 7,
     "metadata": {},
     "output_type": "execute_result"
    }
   ],
   "source": [
    "movies.head()"
   ]
  },
  {
   "cell_type": "markdown",
   "id": "5368cb65",
   "metadata": {},
   "source": [
    "Now, let's see if we can apply value counts to each movie! This will give each movie/tv show title a value corresponding with how frequent it shows up in our data. The higher value count means that it shows up multiple times in our data, meaning that there have been more than one actor/actress in DUNE that has acted on it!"
   ]
  },
  {
   "cell_type": "code",
   "execution_count": 8,
   "id": "d4d1b1c1",
   "metadata": {},
   "outputs": [],
   "source": [
    "movie_suggestions = movies.apply(pd.value_counts)"
   ]
  },
  {
   "cell_type": "code",
   "execution_count": 9,
   "id": "0f6c3d5b",
   "metadata": {},
   "outputs": [],
   "source": [
    "movie_suggestions = movie_suggestions.reset_index()"
   ]
  },
  {
   "cell_type": "markdown",
   "id": "088f4557",
   "metadata": {},
   "source": [
    "Now, let's sort the values by movie_or_TV_name in DESCENDING ORDER, meaning that the most common movie will be on top. The most common **SHOULD** be DUNE because every actor in our list has definitely been a part of that project"
   ]
  },
  {
   "cell_type": "code",
   "execution_count": 10,
   "id": "156dd688",
   "metadata": {},
   "outputs": [],
   "source": [
    "movie_suggestions = movie_suggestions.sort_values(by = \"movie_or_TV_name\", ascending = False)\n"
   ]
  },
  {
   "cell_type": "code",
   "execution_count": 11,
   "id": "27353fdf",
   "metadata": {},
   "outputs": [
    {
     "data": {
      "text/html": [
       "<div>\n",
       "<style scoped>\n",
       "    .dataframe tbody tr th:only-of-type {\n",
       "        vertical-align: middle;\n",
       "    }\n",
       "\n",
       "    .dataframe tbody tr th {\n",
       "        vertical-align: top;\n",
       "    }\n",
       "\n",
       "    .dataframe thead th {\n",
       "        text-align: right;\n",
       "    }\n",
       "</style>\n",
       "<table border=\"1\" class=\"dataframe\">\n",
       "  <thead>\n",
       "    <tr style=\"text-align: right;\">\n",
       "      <th></th>\n",
       "      <th>Movie</th>\n",
       "      <th>actor</th>\n",
       "      <th>Number Of Actors</th>\n",
       "    </tr>\n",
       "  </thead>\n",
       "  <tbody>\n",
       "    <tr>\n",
       "      <th>401</th>\n",
       "      <td>Dune</td>\n",
       "      <td>NaN</td>\n",
       "      <td>49.0</td>\n",
       "    </tr>\n",
       "    <tr>\n",
       "      <th>376</th>\n",
       "      <td>Doctors</td>\n",
       "      <td>NaN</td>\n",
       "      <td>8.0</td>\n",
       "    </tr>\n",
       "    <tr>\n",
       "      <th>604</th>\n",
       "      <td>Holby City</td>\n",
       "      <td>NaN</td>\n",
       "      <td>7.0</td>\n",
       "    </tr>\n",
       "    <tr>\n",
       "      <th>260</th>\n",
       "      <td>Casualty</td>\n",
       "      <td>NaN</td>\n",
       "      <td>7.0</td>\n",
       "    </tr>\n",
       "    <tr>\n",
       "      <th>1336</th>\n",
       "      <td>The Bill</td>\n",
       "      <td>NaN</td>\n",
       "      <td>7.0</td>\n",
       "    </tr>\n",
       "    <tr>\n",
       "      <th>...</th>\n",
       "      <td>...</td>\n",
       "      <td>...</td>\n",
       "      <td>...</td>\n",
       "    </tr>\n",
       "    <tr>\n",
       "      <th>1253</th>\n",
       "      <td>Stephen Collins</td>\n",
       "      <td>14.0</td>\n",
       "      <td>NaN</td>\n",
       "    </tr>\n",
       "    <tr>\n",
       "      <th>1254</th>\n",
       "      <td>Stephen McKinley Henderson</td>\n",
       "      <td>49.0</td>\n",
       "      <td>NaN</td>\n",
       "    </tr>\n",
       "    <tr>\n",
       "      <th>1295</th>\n",
       "      <td>Tachia Newall</td>\n",
       "      <td>16.0</td>\n",
       "      <td>NaN</td>\n",
       "    </tr>\n",
       "    <tr>\n",
       "      <th>1588</th>\n",
       "      <td>Timothée Chalamet</td>\n",
       "      <td>31.0</td>\n",
       "      <td>NaN</td>\n",
       "    </tr>\n",
       "    <tr>\n",
       "      <th>1762</th>\n",
       "      <td>Zendaya</td>\n",
       "      <td>47.0</td>\n",
       "      <td>NaN</td>\n",
       "    </tr>\n",
       "  </tbody>\n",
       "</table>\n",
       "<p>1781 rows × 3 columns</p>\n",
       "</div>"
      ],
      "text/plain": [
       "                           Movie  actor  Number Of Actors\n",
       "401                         Dune    NaN              49.0\n",
       "376                      Doctors    NaN               8.0\n",
       "604                   Holby City    NaN               7.0\n",
       "260                     Casualty    NaN               7.0\n",
       "1336                    The Bill    NaN               7.0\n",
       "...                          ...    ...               ...\n",
       "1253             Stephen Collins   14.0               NaN\n",
       "1254  Stephen McKinley Henderson   49.0               NaN\n",
       "1295               Tachia Newall   16.0               NaN\n",
       "1588           Timothée Chalamet   31.0               NaN\n",
       "1762                     Zendaya   47.0               NaN\n",
       "\n",
       "[1781 rows x 3 columns]"
      ]
     },
     "execution_count": 11,
     "metadata": {},
     "output_type": "execute_result"
    }
   ],
   "source": [
    "movie_suggestions.rename(columns = {\"index\": \"Movie\", \"movie_or_TV_name\": \"Number Of Actors\"})"
   ]
  },
  {
   "cell_type": "code",
   "execution_count": 12,
   "id": "ec2f1dd0",
   "metadata": {},
   "outputs": [
    {
     "data": {
      "text/html": [
       "<div>\n",
       "<style scoped>\n",
       "    .dataframe tbody tr th:only-of-type {\n",
       "        vertical-align: middle;\n",
       "    }\n",
       "\n",
       "    .dataframe tbody tr th {\n",
       "        vertical-align: top;\n",
       "    }\n",
       "\n",
       "    .dataframe thead th {\n",
       "        text-align: right;\n",
       "    }\n",
       "</style>\n",
       "<table border=\"1\" class=\"dataframe\">\n",
       "  <thead>\n",
       "    <tr style=\"text-align: right;\">\n",
       "      <th></th>\n",
       "      <th>index</th>\n",
       "      <th>movie_or_TV_name</th>\n",
       "    </tr>\n",
       "  </thead>\n",
       "  <tbody>\n",
       "    <tr>\n",
       "      <th>401</th>\n",
       "      <td>Dune</td>\n",
       "      <td>49.0</td>\n",
       "    </tr>\n",
       "    <tr>\n",
       "      <th>376</th>\n",
       "      <td>Doctors</td>\n",
       "      <td>8.0</td>\n",
       "    </tr>\n",
       "    <tr>\n",
       "      <th>604</th>\n",
       "      <td>Holby City</td>\n",
       "      <td>7.0</td>\n",
       "    </tr>\n",
       "    <tr>\n",
       "      <th>260</th>\n",
       "      <td>Casualty</td>\n",
       "      <td>7.0</td>\n",
       "    </tr>\n",
       "    <tr>\n",
       "      <th>1336</th>\n",
       "      <td>The Bill</td>\n",
       "      <td>7.0</td>\n",
       "    </tr>\n",
       "    <tr>\n",
       "      <th>1187</th>\n",
       "      <td>Silent Witness</td>\n",
       "      <td>5.0</td>\n",
       "    </tr>\n",
       "    <tr>\n",
       "      <th>411</th>\n",
       "      <td>EastEnders</td>\n",
       "      <td>5.0</td>\n",
       "    </tr>\n",
       "    <tr>\n",
       "      <th>309</th>\n",
       "      <td>Coronation Street</td>\n",
       "      <td>4.0</td>\n",
       "    </tr>\n",
       "    <tr>\n",
       "      <th>431</th>\n",
       "      <td>Endeavour</td>\n",
       "      <td>3.0</td>\n",
       "    </tr>\n",
       "    <tr>\n",
       "      <th>564</th>\n",
       "      <td>Hamlet</td>\n",
       "      <td>3.0</td>\n",
       "    </tr>\n",
       "  </tbody>\n",
       "</table>\n",
       "</div>"
      ],
      "text/plain": [
       "                  index  movie_or_TV_name\n",
       "401                Dune              49.0\n",
       "376             Doctors               8.0\n",
       "604          Holby City               7.0\n",
       "260            Casualty               7.0\n",
       "1336           The Bill               7.0\n",
       "1187     Silent Witness               5.0\n",
       "411          EastEnders               5.0\n",
       "309   Coronation Street               4.0\n",
       "431           Endeavour               3.0\n",
       "564              Hamlet               3.0"
      ]
     },
     "execution_count": 12,
     "metadata": {},
     "output_type": "execute_result"
    }
   ],
   "source": [
    "movie_suggestions = movie_suggestions.drop([\"actor\"],axis = 1)\n",
    "\n",
    "movie_suggestions[0:10]"
   ]
  },
  {
   "cell_type": "markdown",
   "id": "9ceb93c6",
   "metadata": {},
   "source": [
    "There we have it! We have succesfully scraped the IMDB cast and crew page for DUNE, got data concerning which actors/actresses played a role in it, what other movies each actor/actress starred in, and gave recommendations for which movies to watch next based on how s"
   ]
  },
  {
   "cell_type": "code",
   "execution_count": null,
   "id": "4837ca5d",
   "metadata": {},
   "outputs": [],
   "source": []
  },
  {
   "cell_type": "code",
   "execution_count": null,
   "id": "c81098a4",
   "metadata": {},
   "outputs": [],
   "source": []
  },
  {
   "cell_type": "code",
   "execution_count": null,
   "id": "f3e9201b",
   "metadata": {},
   "outputs": [],
   "source": []
  },
  {
   "cell_type": "code",
   "execution_count": null,
   "id": "af8d798f",
   "metadata": {},
   "outputs": [],
   "source": []
  }
 ],
 "metadata": {
  "kernelspec": {
   "display_name": "Python [conda env:PIC16B] *",
   "language": "python",
   "name": "conda-env-PIC16B-py"
  },
  "language_info": {
   "codemirror_mode": {
    "name": "ipython",
    "version": 3
   },
   "file_extension": ".py",
   "mimetype": "text/x-python",
   "name": "python",
   "nbconvert_exporter": "python",
   "pygments_lexer": "ipython3",
   "version": "3.8.11"
  }
 },
 "nbformat": 4,
 "nbformat_minor": 5
}
